{
 "cells": [
  {
   "cell_type": "markdown",
   "metadata": {},
   "source": [
    "## Physical Models of Biological Systems 77972 - Final assignment $\\\\$ \n",
    "Created by Etay Dabach $\\\\$ \n",
    "Bivariate Gaussian, Covariance Matrix, Correlation and Mutual Information"
   ]
  },
  {
   "cell_type": "markdown",
   "metadata": {},
   "source": [
    "In this assignment we will look at the bivariate normal distribution and try to find some of its properties and the effects of the correlation coefficient and the covariance matrix on it. First we will derive the bivariate normal from the regular normal distribution. $\\\\$\n",
    "Let $Z_{1}$ and $Z_{2}$ be two independent normal distributions $N(0,1)$ and two normal random variables $X$ and $Y$ with means $\\mu_{X},\\space \\mu_{Y}$, variances $\\sigma_{X}^{2},\\space \\sigma_{Y}^{2}$ and correlation coefficient $\\rho$ defiend as: $\\\\$\n",
    "$$X=\\sigma_{X}Z_{1}+\\mu_{X}$$ \n",
    "$$Y=\\sigma_{Y}(\\rho Z_{1}+ \\sqrt{1-\\rho^{2}}Z_{2}) + \\mu_{Y}$$\n",
    "a. Show that $X$ and $Y$ are bivariate normal and find the joint PDF $f(x,y)$ by using the method of transformation for continuous random variables.\n",
    "   (show that $aX+bY$ has a normal distribution $\\forall  a,b \\in \\mathbb{R} $) $\\\\$\n",
    "b. Find the entropies $H(X), \\space H(Y) \\space ,H(X,Y)$ and calculate the mutual information $I(X;Y)$ $\\\\$\n",
    "$$$$\n",
    "Now we will look at a different way to represent bivariate normal dribution. This method of representaion is much easier to work with, especially in multivariate normal distribution.$\\\\$\n",
    "\n",
    "c. Calculate the covariance matrix and show by using $$f(\\bold{x})=\\frac{1}{\\sqrt{(2\\pi)^{k}|det(\\bold{\\Sigma})|}}\\exp \\left({-\\frac{1}{2}(\\bold{x}-\\bold{\\mu})^{T}}\\bold{\\Sigma}^{-1}(\\bold{x}-\\bold{\\mu})\\right)$$ that we get the same joint distribution from section a, where $\\bold{x}$ is a column vector of $x,y$ parameters of the random variables, $\\bold{\\mu}$ is a column vectors of the means $\\mu_{X}, \\mu_{Y}$,  $\\bold{\\Sigma}$ is the covariance matrix and $k$ is the dimension of $\\bold{x}$. $\\\\$\n",
    "d. To see how the correlation coefficient affects the bivariate normal, simulate a bivariate normal distribution and plot the distribution for different values $\\rho = {0, 0.3, 0.5, 0.7, 0.9, 1, -0.4, -0.6, -0.8, -1}$. Assume $\\sigma_{x}=\\sigma_{y}=1$ and $\\mu_{X}=\\mu_{Y}=0$. Use the covariance matrix. $\\\\$\n",
    "\n",
    "e. Now we will change the covariance matrix by changing $\\sigma_{X}$, $\\sigma_{Y}$ and $\\rho$, plot the bivariate normal distribution for each of the covariance matrices (for simplicity assume $\\mu_{X}=\\mu_{Y}=0$): $\\\\$\n",
    "\n",
    "$$\n",
    "\\bold{\\Sigma}_{1} = \\left(\\begin{array}{cc} 9 & 8 \\\\ 8 & 9 \\end{array} \\right);\\quad \\bold{\\Sigma}_{2} = \\left(\\begin{array}{cc} 3000 & -38 \\\\ -38 & 1 \\end{array} \\right);\\quad \\bold{\\Sigma}_{3} = \\left(\\begin{array}{cc} 2200 & 2000 \\\\ 2000 & 2200 \\end{array} \\right);\\quad \\bold{\\Sigma}_{4} = \\left(\\begin{array}{cc} 6 & 1 \\\\ 1 & 4 \\end{array} \\right);\\quad \\bold{\\Sigma}_{5} = \\left(\\begin{array}{cc} 6 & -1 \\\\ -1 & 4 \\end{array} \\right);\\quad \\bold{\\Sigma}_{6} = \\left(\\begin{array}{cc} 12024 & 7542 \\\\ 7542 & 9757 \\end{array} \\right) \n",
    "$$\n",
    "Find $\\rho$ and explain what can you conclude from the results? $\\\\$\n",
    "\n",
    "f. Choose one of the covariance matrices from previous section and preform PCA (Principal Components Analysis) for whitening as we did in class.\n"
   ]
  }
 ],
 "metadata": {
  "language_info": {
   "name": "python"
  }
 },
 "nbformat": 4,
 "nbformat_minor": 2
}
